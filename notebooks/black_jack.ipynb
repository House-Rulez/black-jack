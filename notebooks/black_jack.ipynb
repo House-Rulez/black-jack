{
 "cells": [
  {
   "cell_type": "code",
   "execution_count": 1,
   "metadata": {},
   "outputs": [],
   "source": [
    "import pandas as pd\n",
    "import matplotlib.pyplot as plt\n",
    "import csv"
   ]
  },
  {
   "cell_type": "code",
   "execution_count": 2,
   "metadata": {},
   "outputs": [],
   "source": [
    "deck_df = pd.read_csv('deck.csv')\n",
    "hand_df = pd.read_csv('hand.csv')"
   ]
  },
  {
   "cell_type": "code",
   "execution_count": 5,
   "metadata": {},
   "outputs": [],
   "source": [
    "hand_sum = hand_df['Points'].sum()\n",
    "deck_sum = deck_df['Points'].count()\n",
    "\n",
    "def count_points(point):\n",
    "    if point == 1:\n",
    "        return int(deck_df[deck_df['Points'] == 11].count())\n",
    "    return int(deck_df[deck_df['Points'] == point].count())\n",
    "\n",
    "points_dict = {hand_sum + i:count_points(i) / deck_sum for i in range(1, 12)}\n",
    "x_points = points_dict.keys()\n",
    "y_probs = points_dict.values()\n",
    "# x_points = range(hand_sum + 1, hand_sum + 12)\n",
    "# y_probs = [(count_points(i) / deck_sum) for i in range(1, 12)]"
   ]
  },
  {
   "cell_type": "code",
   "execution_count": 6,
   "metadata": {},
   "outputs": [
    {
     "data": {
      "image/png": "[encoded data removed]",
      "text/plain": [
       "<Figure size 432x288 with 1 Axes>"
      ]
     },
     "metadata": {
      "needs_background": "light"
     },
     "output_type": "display_data"
    }
   ],
   "source": [
    "%matplotlib inline\n",
    "plt.bar(x_points, y_probs, width=0.5, bottom=None, align='center', color='green')\n",
    "plt.xlabel('Points')\n",
    "plt.ylabel('Probabilities')\n",
    "plt.title('What can be scored in the next hit')\n",
    "plt.show()"
   ]
  },
  {
   "cell_type": "code",
   "execution_count": null,
   "metadata": {},
   "outputs": [],
   "source": [
    "def write_21s():"
   ]
  }
 ],
 "metadata": {
  "file_extension": ".py",
  "kernelspec": {
   "display_name": "'Python Interactive'",
   "language": "python",
   "name": "2a1607d4-6c18-4b07-bde4-53f0c983a481"
  },
  "language_info": {
   "codemirror_mode": {
    "name": "ipython",
    "version": 3
   },
   "file_extension": ".py",
   "mimetype": "text/x-python",
   "name": "python",
   "nbconvert_exporter": "python",
   "pygments_lexer": "ipython3",
   "version": "3.7.6"
  },
  "mimetype": "text/x-python",
  "name": "python",
  "npconvert_exporter": "python",
  "pygments_lexer": "ipython3",
  "version": 3
 },
 "nbformat": 4,
 "nbformat_minor": 4
}
